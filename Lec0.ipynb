{
 "cells": [
  {
   "cell_type": "markdown",
   "source": [
    "函数在使用前要存在，可以用：\n",
    "\n",
    "def main():\n",
    "    function()\n",
    "\n",
    "def function()：\n",
    "\n",
    "main()\n",
    "的方式来使用，不过需要注意 **域（scope）** 的问题"
   ],
   "metadata": {
    "collapsed": false
   }
  },
  {
   "cell_type": "code",
   "execution_count": null,
   "outputs": [],
   "source": [
    "def main():\n",
    "    name = input(\"What's your name?\")\n",
    "    hello()\n",
    "\n",
    "def hello():\n",
    "    print(\"hello,\", name)\n",
    "\n",
    "main()"
   ],
   "metadata": {
    "collapsed": false,
    "pycharm": {
     "is_executing": true
    }
   }
  },
  {
   "cell_type": "code",
   "execution_count": null,
   "outputs": [],
   "source": [],
   "metadata": {
    "collapsed": false
   }
  }
 ],
 "metadata": {
  "kernelspec": {
   "display_name": "Python 3",
   "language": "python",
   "name": "python3"
  },
  "language_info": {
   "codemirror_mode": {
    "name": "ipython",
    "version": 2
   },
   "file_extension": ".py",
   "mimetype": "text/x-python",
   "name": "python",
   "nbconvert_exporter": "python",
   "pygments_lexer": "ipython2",
   "version": "2.7.6"
  }
 },
 "nbformat": 4,
 "nbformat_minor": 0
}
