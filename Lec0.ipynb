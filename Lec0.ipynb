{
 "cells": [
  {
   "cell_type": "markdown",
   "source": [
    "函数在使用前要存在，可以用：\n",
    "\n",
    "def main():\n",
    "    function()\n",
    "\n",
    "def function()：\n",
    "\n",
    "main()\n",
    "的方式来使用，不过需要注意 **域（scope）** 的问题"
   ],
   "metadata": {
    "collapsed": false
   }
  },
  {
   "cell_type": "code",
   "execution_count": 4,
   "outputs": [
    {
     "ename": "NameError",
     "evalue": "name 'name' is not defined",
     "output_type": "error",
     "traceback": [
      "\u001B[1;31m---------------------------------------------------------------------------\u001B[0m",
      "\u001B[1;31mNameError\u001B[0m                                 Traceback (most recent call last)",
      "Cell \u001B[1;32mIn[4], line 8\u001B[0m\n\u001B[0;32m      5\u001B[0m \u001B[38;5;28;01mdef\u001B[39;00m \u001B[38;5;21mhello\u001B[39m():\n\u001B[0;32m      6\u001B[0m     \u001B[38;5;28mprint\u001B[39m(\u001B[38;5;124m\"\u001B[39m\u001B[38;5;124mhello,\u001B[39m\u001B[38;5;124m\"\u001B[39m, name)\n\u001B[1;32m----> 8\u001B[0m \u001B[43mmain\u001B[49m\u001B[43m(\u001B[49m\u001B[43m)\u001B[49m\n",
      "Cell \u001B[1;32mIn[4], line 3\u001B[0m, in \u001B[0;36mmain\u001B[1;34m()\u001B[0m\n\u001B[0;32m      1\u001B[0m \u001B[38;5;28;01mdef\u001B[39;00m \u001B[38;5;21mmain\u001B[39m():\n\u001B[0;32m      2\u001B[0m     name \u001B[38;5;241m=\u001B[39m \u001B[38;5;28minput\u001B[39m(\u001B[38;5;124m\"\u001B[39m\u001B[38;5;124mWhat\u001B[39m\u001B[38;5;124m'\u001B[39m\u001B[38;5;124ms your name?\u001B[39m\u001B[38;5;124m\"\u001B[39m)\n\u001B[1;32m----> 3\u001B[0m     \u001B[43mhello\u001B[49m\u001B[43m(\u001B[49m\u001B[43m)\u001B[49m\n",
      "Cell \u001B[1;32mIn[4], line 6\u001B[0m, in \u001B[0;36mhello\u001B[1;34m()\u001B[0m\n\u001B[0;32m      5\u001B[0m \u001B[38;5;28;01mdef\u001B[39;00m \u001B[38;5;21mhello\u001B[39m():\n\u001B[1;32m----> 6\u001B[0m     \u001B[38;5;28mprint\u001B[39m(\u001B[38;5;124m\"\u001B[39m\u001B[38;5;124mhello,\u001B[39m\u001B[38;5;124m\"\u001B[39m, \u001B[43mname\u001B[49m)\n",
      "\u001B[1;31mNameError\u001B[0m: name 'name' is not defined"
     ]
    }
   ],
   "source": [
    "def main():\n",
    "    name = input(\"What's your name?\")\n",
    "    hello()\n",
    "\n",
    "def hello():\n",
    "    print(\"hello,\", name)\n",
    "\n",
    "main()"
   ],
   "metadata": {
    "collapsed": false
   }
  },
  {
   "cell_type": "markdown",
   "source": [
    "使用形参的方式传递"
   ],
   "metadata": {
    "collapsed": false
   }
  },
  {
   "cell_type": "code",
   "execution_count": 6,
   "outputs": [
    {
     "name": "stdout",
     "output_type": "stream",
     "text": [
      "hello, David\n"
     ]
    }
   ],
   "source": [
    "def main():\n",
    "    name = input(\"What's your name?\")\n",
    "    hello(name)\n",
    "\n",
    "def hello(to=\"wordl\"):\n",
    "    print(\"hello,\", to)\n",
    "\n",
    "main()"
   ],
   "metadata": {
    "collapsed": false
   }
  },
  {
   "cell_type": "markdown",
   "source": [
    "利用 **return** ，例如"
   ],
   "metadata": {
    "collapsed": false
   }
  },
  {
   "cell_type": "code",
   "execution_count": 7,
   "outputs": [
    {
     "ename": "NameError",
     "evalue": "name 'square' is not defined",
     "output_type": "error",
     "traceback": [
      "\u001B[1;31m---------------------------------------------------------------------------\u001B[0m",
      "\u001B[1;31mNameError\u001B[0m                                 Traceback (most recent call last)",
      "Cell \u001B[1;32mIn[7], line 5\u001B[0m\n\u001B[0;32m      2\u001B[0m     x \u001B[38;5;241m=\u001B[39m \u001B[38;5;28mint\u001B[39m(\u001B[38;5;28minput\u001B[39m(\u001B[38;5;124m\"\u001B[39m\u001B[38;5;124mWhat\u001B[39m\u001B[38;5;124m'\u001B[39m\u001B[38;5;124ms x?\u001B[39m\u001B[38;5;124m\"\u001B[39m))\n\u001B[0;32m      3\u001B[0m     \u001B[38;5;28mprint\u001B[39m(\u001B[38;5;124m\"\u001B[39m\u001B[38;5;124mx squared is\u001B[39m\u001B[38;5;124m\"\u001B[39m, square(x))\n\u001B[1;32m----> 5\u001B[0m \u001B[43mmain\u001B[49m\u001B[43m(\u001B[49m\u001B[43m)\u001B[49m\n",
      "Cell \u001B[1;32mIn[7], line 3\u001B[0m, in \u001B[0;36mmain\u001B[1;34m()\u001B[0m\n\u001B[0;32m      1\u001B[0m \u001B[38;5;28;01mdef\u001B[39;00m \u001B[38;5;21mmain\u001B[39m():\n\u001B[0;32m      2\u001B[0m     x \u001B[38;5;241m=\u001B[39m \u001B[38;5;28mint\u001B[39m(\u001B[38;5;28minput\u001B[39m(\u001B[38;5;124m\"\u001B[39m\u001B[38;5;124mWhat\u001B[39m\u001B[38;5;124m'\u001B[39m\u001B[38;5;124ms x?\u001B[39m\u001B[38;5;124m\"\u001B[39m))\n\u001B[1;32m----> 3\u001B[0m     \u001B[38;5;28mprint\u001B[39m(\u001B[38;5;124m\"\u001B[39m\u001B[38;5;124mx squared is\u001B[39m\u001B[38;5;124m\"\u001B[39m, \u001B[43msquare\u001B[49m(x))\n",
      "\u001B[1;31mNameError\u001B[0m: name 'square' is not defined"
     ]
    }
   ],
   "source": [
    "def main():\n",
    "    x = int(input(\"What's x?\"))\n",
    "    print(\"x squared is\", square(x))\n",
    "\n",
    "main()"
   ],
   "metadata": {
    "collapsed": false
   }
  },
  {
   "cell_type": "markdown",
   "source": [
    "此时会报错，由于函数square（）不存在"
   ],
   "metadata": {
    "collapsed": false
   }
  },
  {
   "cell_type": "code",
   "execution_count": 8,
   "outputs": [
    {
     "name": "stdout",
     "output_type": "stream",
     "text": [
      "x squared is 4\n"
     ]
    }
   ],
   "source": [
    "def main():\n",
    "    x = int(input(\"What's x?\"))\n",
    "    print(\"x squared is\", square(x))\n",
    "\n",
    "def square(n):\n",
    "    return pow(n,2)  # we need use the key word： return\n",
    "\n",
    "main()"
   ],
   "metadata": {
    "collapsed": false
   }
  },
  {
   "cell_type": "code",
   "execution_count": null,
   "outputs": [],
   "source": [],
   "metadata": {
    "collapsed": false
   }
  }
 ],
 "metadata": {
  "kernelspec": {
   "display_name": "Python 3",
   "language": "python",
   "name": "python3"
  },
  "language_info": {
   "codemirror_mode": {
    "name": "ipython",
    "version": 2
   },
   "file_extension": ".py",
   "mimetype": "text/x-python",
   "name": "python",
   "nbconvert_exporter": "python",
   "pygments_lexer": "ipython2",
   "version": "2.7.6"
  }
 },
 "nbformat": 4,
 "nbformat_minor": 0
}
